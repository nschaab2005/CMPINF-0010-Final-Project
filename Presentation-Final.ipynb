{
 "cells": [
  {
   "cell_type": "markdown",
   "id": "05d30e5e-9cc4-43b4-9453-d5275b163fbb",
   "metadata": {
    "jp-MarkdownHeadingCollapsed": true
   },
   "source": [
    "## Introduction\n",
    "\n",
    "For our overarching metric we decided to focus on quality of life. Quality of life can cover a wide range of submetrics that are all vital to determining where the best place to live is. Not only that, but it also is an indicater of overall content and happiness with the place someone chooses to live in. From quality of life we determined three submetrics that will be useful in helping us find the best neighborhood."
   ]
  },
  {
   "cell_type": "markdown",
   "id": "cef9fc77-ceb9-4bb0-b02f-04da67107199",
   "metadata": {},
   "source": [
    "## Metric\n",
    "\n",
    "For our submetrics falling under the overarching theme of quality of life we chose green space, home values, and crime rate.\n",
    "\n",
    "### Home Values\n",
    "Home values are important to analyze because the cost of living within an area is one of the first things people have in mind when picking an ideal area to live. The cost of one's living space is vital information when making the big decision of where to settle down. Looking at the median home values within the neighborhoods can be a good indicator to someone on where to live. A high home value can raise concern over affordability but a low value can raise concern over quality of living space. The goal of my part of the project is to find a neighborhood where the home value is not too expensive but also not too low to signify poor living conditions. For picking the ideal home value I am going to base it off of the average base salary in the city of Pittsburgh which is around 76,000. For a base salary of 76,000 the suggester home value was around the lower 100,000.\n",
    "\n",
    "Winner: *A wide range of neighborhoods.\n",
    "Loser: Squirrel Hill North, Bluff.\n",
    "\n",
    "### Green Space\n",
    "The European Center for Environment and Human Health has specifically found that \"people are happier when living in urban areas with greater amounts of green space. Compared to instances when they live in areas with less green space they show significantly lower mental distress (GHQ scores) and significantly higher wellbeing (life satisfaction).\" This is a clear indicator that the amount of green space in an area can be key in determining where the best neighborhood in Pittsburgh is. A natural measure of green space is the square footage of publicly owned outdoor space in each neighborhood, which includes parks, monuments, and even traffic medians.\n",
    "\n",
    "Winner: Squirrel Hill South\n",
    "Loser: West Oakland\n",
    "\n",
    "### Crime Rates\n",
    "Overall safety is important when finding a place to live. Following a darker route, the final data set that we will be looking at is the arrest data of Pittsburgh from 2014-23. The arrest data contains the location of the arrest, so by searching by the location of the arrest we can determine what areas have the higher rate of arrests. This allows us to determine which neighborhoods are the safest and will leave people living in the neighborhood feeling more secure in their homes.\n",
    "\n",
    "Winner: Mt. Oliver Neighborhood\n",
    "Loser: Central Business District"
   ]
  },
  {
   "cell_type": "code",
   "execution_count": null,
   "id": "4db16937-82a9-4987-b5d3-bdd553f6400a",
   "metadata": {},
   "outputs": [],
   "source": []
  }
 ],
 "metadata": {
  "kernelspec": {
   "display_name": "Python 3 (ipykernel)",
   "language": "python",
   "name": "python3"
  },
  "language_info": {
   "codemirror_mode": {
    "name": "ipython",
    "version": 3
   },
   "file_extension": ".py",
   "mimetype": "text/x-python",
   "name": "python",
   "nbconvert_exporter": "python",
   "pygments_lexer": "ipython3",
   "version": "3.11.5"
  }
 },
 "nbformat": 4,
 "nbformat_minor": 5
}
